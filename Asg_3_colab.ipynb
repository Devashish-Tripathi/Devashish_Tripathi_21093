{
  "cells": [
    {
      "cell_type": "markdown",
      "metadata": {
        "id": "_m_m9_X2CPTo"
      },
      "source": [
        "Dense Neural Network: Implement a feedforward neural network with dense layers only. Specify the number of hidden layers, neurons\n",
        "per layer, and activation functions. How will you preprocess the input images? Consider hyperparameter tuning strategies."
      ]
    },
    {
      "cell_type": "markdown",
      "metadata": {
        "id": "G0DJYUUiCPTp"
      },
      "source": [
        "# Imports"
      ]
    },
    {
      "cell_type": "markdown",
      "source": [
        "Installing skorch to allow using scikit-learn with Pytorch models"
      ],
      "metadata": {
        "id": "WroZKEreFqsD"
      }
    },
    {
      "cell_type": "code",
      "source": [
        "!pip install skorch"
      ],
      "metadata": {
        "colab": {
          "base_uri": "https://localhost:8080/"
        },
        "id": "c4mER1_uFpX9",
        "outputId": "66bbce78-d5b6-4030-828d-d2cd33038bef"
      },
      "execution_count": 1,
      "outputs": [
        {
          "output_type": "stream",
          "name": "stdout",
          "text": [
            "Collecting skorch\n",
            "  Downloading skorch-0.15.0-py3-none-any.whl (239 kB)\n",
            "\u001b[2K     \u001b[90m━━━━━━━━━━━━━━━━━━━━━━━━━━━━━━━━━━━━━━━━\u001b[0m \u001b[32m239.3/239.3 kB\u001b[0m \u001b[31m1.6 MB/s\u001b[0m eta \u001b[36m0:00:00\u001b[0m\n",
            "\u001b[?25hRequirement already satisfied: numpy>=1.13.3 in /usr/local/lib/python3.10/dist-packages (from skorch) (1.25.2)\n",
            "Requirement already satisfied: scikit-learn>=0.22.0 in /usr/local/lib/python3.10/dist-packages (from skorch) (1.2.2)\n",
            "Requirement already satisfied: scipy>=1.1.0 in /usr/local/lib/python3.10/dist-packages (from skorch) (1.11.4)\n",
            "Requirement already satisfied: tabulate>=0.7.7 in /usr/local/lib/python3.10/dist-packages (from skorch) (0.9.0)\n",
            "Requirement already satisfied: tqdm>=4.14.0 in /usr/local/lib/python3.10/dist-packages (from skorch) (4.66.2)\n",
            "Requirement already satisfied: joblib>=1.1.1 in /usr/local/lib/python3.10/dist-packages (from scikit-learn>=0.22.0->skorch) (1.3.2)\n",
            "Requirement already satisfied: threadpoolctl>=2.0.0 in /usr/local/lib/python3.10/dist-packages (from scikit-learn>=0.22.0->skorch) (3.3.0)\n",
            "Installing collected packages: skorch\n",
            "Successfully installed skorch-0.15.0\n"
          ]
        }
      ]
    },
    {
      "cell_type": "code",
      "execution_count": 36,
      "metadata": {
        "id": "FFh4Xhx3CPTq"
      },
      "outputs": [],
      "source": [
        "import torch\n",
        "import torch.nn as nn\n",
        "import torch.nn.functional as F"
      ]
    },
    {
      "cell_type": "code",
      "source": [
        "from torch.utils.data import DataLoader"
      ],
      "metadata": {
        "id": "j0WK3htqGRsA"
      },
      "execution_count": 52,
      "outputs": []
    },
    {
      "cell_type": "code",
      "source": [
        "import torch.optim as optim\n",
        "import torchvision.transforms.v2 as transforms"
      ],
      "metadata": {
        "id": "SSdoFK-tNbo2"
      },
      "execution_count": 3,
      "outputs": []
    },
    {
      "cell_type": "code",
      "execution_count": 4,
      "metadata": {
        "id": "9zgC-qNLCPTq"
      },
      "outputs": [],
      "source": [
        "import numpy as np\n",
        "import matplotlib.pyplot as plt"
      ]
    },
    {
      "cell_type": "code",
      "execution_count": 50,
      "metadata": {
        "id": "hb4IEwnuCPTq"
      },
      "outputs": [],
      "source": [
        "from sklearn.model_selection import GridSearchCV, train_test_split\n",
        "from sklearn.metrics import ConfusionMatrixDisplay, confusion_matrix, classification_report, accuracy_score"
      ]
    },
    {
      "cell_type": "code",
      "source": [
        "from skorch import NeuralNetClassifier"
      ],
      "metadata": {
        "id": "pcwVE6eSK7_6"
      },
      "execution_count": 6,
      "outputs": []
    },
    {
      "cell_type": "code",
      "execution_count": 7,
      "metadata": {
        "id": "k7Khsf3SCPTr"
      },
      "outputs": [],
      "source": [
        "from torchvision.datasets import CIFAR10\n",
        "import torchvision.datasets.utils as utils"
      ]
    },
    {
      "cell_type": "code",
      "source": [
        "import time"
      ],
      "metadata": {
        "id": "cKMcEGPZINKR"
      },
      "execution_count": 62,
      "outputs": []
    },
    {
      "cell_type": "markdown",
      "metadata": {
        "id": "4k_Iap9uCPTr"
      },
      "source": [
        "# Dataset Preprocessing"
      ]
    },
    {
      "cell_type": "markdown",
      "source": [
        "## Defining the transformations for the dataset"
      ],
      "metadata": {
        "id": "EXuWhzfwEt8G"
      }
    },
    {
      "cell_type": "code",
      "source": [
        "transformation= transforms.Compose([\n",
        "    transforms.RandomAutocontrast(0.35),\n",
        "    transforms.Grayscale(),\n",
        "    transforms.ToTensor(),\n",
        "    transforms.Lambda(torch.flatten)\n",
        "])"
      ],
      "metadata": {
        "colab": {
          "base_uri": "https://localhost:8080/"
        },
        "id": "7dOQLBsbPKm1",
        "outputId": "1fea7e25-1dfd-4f4a-9ba6-617924eb3923"
      },
      "execution_count": 8,
      "outputs": [
        {
          "output_type": "stream",
          "name": "stderr",
          "text": [
            "/usr/local/lib/python3.10/dist-packages/torchvision/transforms/v2/_deprecated.py:41: UserWarning: The transform `ToTensor()` is deprecated and will be removed in a future release. Instead, please use `v2.Compose([v2.ToImage(), v2.ToDtype(torch.float32, scale=True)])`.\n",
            "  warnings.warn(\n"
          ]
        }
      ]
    },
    {
      "cell_type": "markdown",
      "source": [
        "## Loading the dataset"
      ],
      "metadata": {
        "id": "-nxortr9sLab"
      }
    },
    {
      "cell_type": "code",
      "source": [
        "train_data= CIFAR10(root='./data', train= True, download= True, transform= transformation)"
      ],
      "metadata": {
        "colab": {
          "base_uri": "https://localhost:8080/"
        },
        "id": "Fl6WHwrOsKkQ",
        "outputId": "b790a1b3-27da-4d4f-f59a-76bdf4b7d4a4"
      },
      "execution_count": 9,
      "outputs": [
        {
          "output_type": "stream",
          "name": "stdout",
          "text": [
            "Downloading https://www.cs.toronto.edu/~kriz/cifar-10-python.tar.gz to ./data/cifar-10-python.tar.gz\n"
          ]
        },
        {
          "output_type": "stream",
          "name": "stderr",
          "text": [
            "100%|██████████| 170498071/170498071 [00:13<00:00, 12974420.13it/s]\n"
          ]
        },
        {
          "output_type": "stream",
          "name": "stdout",
          "text": [
            "Extracting ./data/cifar-10-python.tar.gz to ./data\n"
          ]
        }
      ]
    },
    {
      "cell_type": "code",
      "source": [
        "test_data= CIFAR10(root='./data', train= False, download= True, transform= transformation)"
      ],
      "metadata": {
        "colab": {
          "base_uri": "https://localhost:8080/"
        },
        "id": "WIL1Nc2jtxgu",
        "outputId": "c2606fd8-ab83-4612-86a7-c3d645a289c9"
      },
      "execution_count": 10,
      "outputs": [
        {
          "output_type": "stream",
          "name": "stdout",
          "text": [
            "Files already downloaded and verified\n"
          ]
        }
      ]
    },
    {
      "cell_type": "markdown",
      "source": [
        "## Extracting the information to use in the GridSearch\n"
      ],
      "metadata": {
        "id": "IK5d7g5P4_Bh"
      }
    },
    {
      "cell_type": "code",
      "source": [
        "y_train= np.array([y for x, y in iter(train_data)])\n",
        "y_test= np.array([y for x, y in iter(test_data)])"
      ],
      "metadata": {
        "id": "aVi0fFUf5F5m"
      },
      "execution_count": 11,
      "outputs": []
    },
    {
      "cell_type": "code",
      "source": [
        "x_train= np.array([x for x,y in iter(train_data)])\n",
        "x_test= np.array([x for x,y in iter(test_data)])"
      ],
      "metadata": {
        "id": "HBaLgxfa7fSj"
      },
      "execution_count": 12,
      "outputs": []
    },
    {
      "cell_type": "markdown",
      "source": [
        "# Model selection"
      ],
      "metadata": {
        "id": "lbIxPTXBEy3J"
      }
    },
    {
      "cell_type": "markdown",
      "metadata": {
        "id": "Mt2GKer0CPTr"
      },
      "source": [
        "## Model definition"
      ]
    },
    {
      "cell_type": "code",
      "execution_count": 37,
      "metadata": {
        "id": "QpSRCe-CCPTr"
      },
      "outputs": [],
      "source": [
        "class Model(nn.Module):\n",
        "    def __init__(self, hidden_size, in_dims=1024,  num_classes=10):\n",
        "      super(Model, self).__init__()\n",
        "      self.fc1= nn.Linear(in_dims, hidden_size)\n",
        "      self.fc2= nn.Linear(hidden_size, hidden_size)\n",
        "      self.fc3= nn.Linear(hidden_size, num_classes)\n",
        "    def forward(self,x):\n",
        "      x= F.relu(self.fc1(x))\n",
        "      x= F.relu(self.fc2(x))\n",
        "      x= self.fc3(x)\n",
        "\n",
        "      return x"
      ]
    },
    {
      "cell_type": "markdown",
      "source": [
        "## Creating skorch object for the model"
      ],
      "metadata": {
        "id": "GpTIE7MBK1tC"
      }
    },
    {
      "cell_type": "code",
      "source": [
        "model= NeuralNetClassifier(\n",
        "    module= Model,\n",
        "    criterion= nn.CrossEntropyLoss(),\n",
        "    device= 'cuda' if torch.cuda.is_available() else 'cpu',\n",
        "    optimizer= optim.Adam\n",
        ")"
      ],
      "metadata": {
        "id": "hQ6o6yMVK5pC"
      },
      "execution_count": 43,
      "outputs": []
    },
    {
      "cell_type": "markdown",
      "source": [
        "## Defining the param grid"
      ],
      "metadata": {
        "id": "4_CxVL0vMwgM"
      }
    },
    {
      "cell_type": "code",
      "source": [
        "param_grid= {\n",
        "    'module__hidden_size': [128, 256],\n",
        "    'batch_size':[32,64],\n",
        "    'max_epochs':[10,15],\n",
        "    'optimizer__lr':[0.001,0.01]\n",
        "}"
      ],
      "metadata": {
        "id": "NmD4wG6KMyil"
      },
      "execution_count": 44,
      "outputs": []
    },
    {
      "cell_type": "markdown",
      "source": [
        "## Running grid search"
      ],
      "metadata": {
        "id": "SVvmde1X6JdB"
      }
    },
    {
      "cell_type": "code",
      "source": [
        "grid= GridSearchCV(estimator= model, param_grid=param_grid, n_jobs=-1, cv=3)"
      ],
      "metadata": {
        "id": "qgGTPD3z6LME"
      },
      "execution_count": 45,
      "outputs": []
    },
    {
      "cell_type": "code",
      "source": [
        "grid_res= grid.fit(x_train, y_train)"
      ],
      "metadata": {
        "colab": {
          "base_uri": "https://localhost:8080/"
        },
        "id": "Uz4WeiEF7MDM",
        "outputId": "faf6402e-fa6d-43bb-caa9-13030b87018f"
      },
      "execution_count": 46,
      "outputs": [
        {
          "output_type": "stream",
          "name": "stdout",
          "text": [
            "  epoch    train_loss    valid_acc    valid_loss     dur\n",
            "-------  ------------  -----------  ------------  ------\n",
            "      1        \u001b[36m2.0722\u001b[0m       \u001b[32m0.3022\u001b[0m        \u001b[35m1.9493\u001b[0m  1.7602\n",
            "      2        \u001b[36m1.9196\u001b[0m       \u001b[32m0.3356\u001b[0m        \u001b[35m1.8802\u001b[0m  1.7050\n",
            "      3        \u001b[36m1.8582\u001b[0m       \u001b[32m0.3480\u001b[0m        \u001b[35m1.8362\u001b[0m  1.8538\n",
            "      4        \u001b[36m1.8145\u001b[0m       \u001b[32m0.3520\u001b[0m        \u001b[35m1.8172\u001b[0m  1.9953\n",
            "      5        \u001b[36m1.7823\u001b[0m       \u001b[32m0.3611\u001b[0m        \u001b[35m1.7989\u001b[0m  1.6951\n",
            "      6        \u001b[36m1.7549\u001b[0m       \u001b[32m0.3627\u001b[0m        \u001b[35m1.7918\u001b[0m  1.6945\n",
            "      7        \u001b[36m1.7337\u001b[0m       \u001b[32m0.3731\u001b[0m        \u001b[35m1.7721\u001b[0m  1.7247\n",
            "      8        \u001b[36m1.7125\u001b[0m       \u001b[32m0.3815\u001b[0m        \u001b[35m1.7551\u001b[0m  1.6871\n",
            "      9        \u001b[36m1.6938\u001b[0m       \u001b[32m0.3825\u001b[0m        \u001b[35m1.7498\u001b[0m  1.7432\n",
            "     10        \u001b[36m1.6776\u001b[0m       \u001b[32m0.3835\u001b[0m        \u001b[35m1.7414\u001b[0m  1.9910\n",
            "     11        \u001b[36m1.6640\u001b[0m       \u001b[32m0.3899\u001b[0m        \u001b[35m1.7350\u001b[0m  1.8348\n",
            "     12        \u001b[36m1.6508\u001b[0m       0.3842        1.7427  1.7058\n",
            "     13        \u001b[36m1.6384\u001b[0m       0.3899        1.7367  1.7048\n",
            "     14        \u001b[36m1.6268\u001b[0m       \u001b[32m0.3911\u001b[0m        \u001b[35m1.7310\u001b[0m  1.7069\n",
            "     15        \u001b[36m1.6178\u001b[0m       0.3881        1.7399  1.6990\n"
          ]
        }
      ]
    },
    {
      "cell_type": "markdown",
      "source": [
        "Summarizing results"
      ],
      "metadata": {
        "id": "jTAEr_UZEVbS"
      }
    },
    {
      "cell_type": "code",
      "source": [
        "print('Best score:', grid_res.best_score_)\n",
        "print('Best params:', grid_res.best_params_)"
      ],
      "metadata": {
        "colab": {
          "base_uri": "https://localhost:8080/"
        },
        "id": "8oOvHJCdEX8g",
        "outputId": "a37af88a-0e8f-44f0-98a7-d749ec347482"
      },
      "execution_count": 47,
      "outputs": [
        {
          "output_type": "stream",
          "name": "stdout",
          "text": [
            "Best score: 0.36779980949042973\n",
            "Best params: {'batch_size': 64, 'max_epochs': 15, 'module__hidden_size': 256, 'optimizer__lr': 0.001}\n"
          ]
        }
      ]
    },
    {
      "cell_type": "markdown",
      "source": [
        "# Model training"
      ],
      "metadata": {
        "id": "48Aj2IYEEsfU"
      }
    },
    {
      "cell_type": "markdown",
      "source": [
        "From the grid search, for the defined linear model, we will define the batch_size as 64, number of neurons in hidden layers as 256 and the learning rate for the Adam optimizer as 0.001, with training for 15 epochs"
      ],
      "metadata": {
        "id": "ASXDxXAVEuqY"
      }
    },
    {
      "cell_type": "markdown",
      "source": [
        "## Creating the dataloaders, splitting the data into train/val/test splits and initializing the model"
      ],
      "metadata": {
        "id": "1hxmmtXhFG5v"
      }
    },
    {
      "cell_type": "code",
      "source": [
        "model= Model(hidden_size=256)"
      ],
      "metadata": {
        "id": "GZMSacqUFOIE"
      },
      "execution_count": 48,
      "outputs": []
    },
    {
      "cell_type": "code",
      "source": [
        "t_split, v_split= train_test_split(train_data, test_size=0.30, random_state=2)"
      ],
      "metadata": {
        "id": "lXY-DkR4FqkQ"
      },
      "execution_count": 51,
      "outputs": []
    },
    {
      "cell_type": "code",
      "source": [
        "train_loader= DataLoader(t_split, batch_size=64)\n",
        "val_loader= DataLoader(v_split, batch_size=64)\n",
        "test_loader= DataLoader(test_data, batch_size=64)"
      ],
      "metadata": {
        "id": "HZ1BmaEzGOq0"
      },
      "execution_count": 54,
      "outputs": []
    },
    {
      "cell_type": "code",
      "source": [
        "lr=0.001\n",
        "epochs= 15\n",
        "device= torch.device('cuda:0' if torch.cuda.is_available() else 'cpu')\n",
        "labels= ('plane', 'car', 'bird', 'cat',\n",
        "           'deer', 'dog', 'frog', 'horse', 'ship', 'truck')"
      ],
      "metadata": {
        "id": "cbUpLcVQGitj"
      },
      "execution_count": 59,
      "outputs": []
    },
    {
      "cell_type": "code",
      "source": [
        "loss_fun= nn.CrossEntropyLoss()\n",
        "optimizer= optim.Adam(params=model.parameters(), lr=lr)"
      ],
      "metadata": {
        "id": "IanKZxa7Gz4l"
      },
      "execution_count": 60,
      "outputs": []
    },
    {
      "cell_type": "code",
      "source": [
        "train_losses=[]\n",
        "train_accs=[]\n",
        "val_losses=[]\n",
        "val_accs=[]"
      ],
      "metadata": {
        "id": "5F2SMz0TIJjY"
      },
      "execution_count": 61,
      "outputs": []
    },
    {
      "cell_type": "code",
      "source": [
        "model.to(device)"
      ],
      "metadata": {
        "colab": {
          "base_uri": "https://localhost:8080/"
        },
        "id": "AJ8_FCCdIsIC",
        "outputId": "f261aaad-704b-4c76-f6c1-ff137657d255"
      },
      "execution_count": 65,
      "outputs": [
        {
          "output_type": "execute_result",
          "data": {
            "text/plain": [
              "Model(\n",
              "  (fc1): Linear(in_features=1024, out_features=256, bias=True)\n",
              "  (fc2): Linear(in_features=256, out_features=256, bias=True)\n",
              "  (fc3): Linear(in_features=256, out_features=10, bias=True)\n",
              ")"
            ]
          },
          "metadata": {},
          "execution_count": 65
        }
      ]
    },
    {
      "cell_type": "markdown",
      "source": [
        "## Training the model"
      ],
      "metadata": {
        "id": "LWDOqLztFC5f"
      }
    },
    {
      "cell_type": "code",
      "source": [
        "for epoch in range(epochs):\n",
        "\n",
        "    #Training\n",
        "    model.train()\n",
        "    tot_train_loss=0\n",
        "    train_correct=0\n",
        "    train_tot=0\n",
        "\n",
        "    tick= time.time()\n",
        "\n",
        "    for batch_id, (imgs, labels) in enumerate(train_loader):\n",
        "        #Sending the data to the device\n",
        "        imgs=imgs.to(device)\n",
        "        labels=labels.to(device)\n",
        "\n",
        "        optimizer.zero_grad()\n",
        "\n",
        "        #Fwd Pass\n",
        "        out=model(imgs)\n",
        "        loss=loss_fun(out,labels)\n",
        "\n",
        "        #Bwd Pass\n",
        "        loss.backward()\n",
        "        optimizer.step()\n",
        "\n",
        "        tot_train_loss+=loss.item()*imgs.size(0)\n",
        "\n",
        "        x,pred=torch.max(out,1)\n",
        "        train_correct+=(pred==labels).sum().item()\n",
        "        train_tot+=labels.size(0)\n",
        "\n",
        "    train_loss= tot_train_loss/len(train_loader.dataset)\n",
        "    train_acc= train_correct/train_tot\n",
        "    train_losses.append(train_loss)\n",
        "    train_accs.append(train_acc)\n",
        "\n",
        "    #Validation\n",
        "    model.eval()\n",
        "    tot_val_loss=0\n",
        "    val_correct=0\n",
        "    val_tot=0\n",
        "\n",
        "    with torch.no_grad():\n",
        "        for val_imgs, val_labels in val_loader:\n",
        "            val_imgs=val_imgs.to(device)\n",
        "            val_labels=val_labels.to(device)\n",
        "\n",
        "            val_out=model(val_imgs)\n",
        "            vloss= loss_fun(val_out,val_labels)\n",
        "            tot_val_loss+=vloss.item()*val_imgs.size(0)\n",
        "\n",
        "            _, val_pred= torch.max(val_out,1)\n",
        "            val_correct+=(val_pred==val_labels).sum().item()\n",
        "            val_tot+=val_labels.size(0)\n",
        "\n",
        "    val_loss= tot_val_loss/len(val_loader.dataset)\n",
        "    val_acc= val_correct/val_tot\n",
        "    val_losses.append(val_loss)\n",
        "    val_accs.append(val_acc)\n",
        "\n",
        "    tock=time.time()\n",
        "    tot_time=tock-tick\n",
        "\n",
        "    print(f'Epoch:{epoch+1}\\t Train_Loss: {train_loss:.4f}\\t Val_Loss: {val_loss:.4f}\\t Train_Acc: {train_acc:.4f}\\t Val_Acc: {val_acc:.4f}\\t Time: {tot_time:.2f} seconds')"
      ],
      "metadata": {
        "colab": {
          "base_uri": "https://localhost:8080/"
        },
        "id": "ebwg16N6HmDi",
        "outputId": "538643c4-5227-4018-e3c7-6e264f43f033"
      },
      "execution_count": 66,
      "outputs": [
        {
          "output_type": "stream",
          "name": "stdout",
          "text": [
            "Epoch:1\t Train_Loss: 2.0466\t Val_Loss: 1.9547\t Train_Acc: 0.2521\t Val_Acc: 0.2999\t Time: 1.69 seconds\n",
            "Epoch:2\t Train_Loss: 1.9029\t Val_Loss: 1.8850\t Train_Acc: 0.3137\t Val_Acc: 0.3316\t Time: 1.46 seconds\n",
            "Epoch:3\t Train_Loss: 1.8385\t Val_Loss: 1.8559\t Train_Acc: 0.3391\t Val_Acc: 0.3424\t Time: 1.36 seconds\n",
            "Epoch:4\t Train_Loss: 1.7916\t Val_Loss: 1.8292\t Train_Acc: 0.3597\t Val_Acc: 0.3515\t Time: 1.37 seconds\n",
            "Epoch:5\t Train_Loss: 1.7549\t Val_Loss: 1.8157\t Train_Acc: 0.3734\t Val_Acc: 0.3622\t Time: 1.38 seconds\n",
            "Epoch:6\t Train_Loss: 1.7215\t Val_Loss: 1.8169\t Train_Acc: 0.3844\t Val_Acc: 0.3644\t Time: 1.35 seconds\n",
            "Epoch:7\t Train_Loss: 1.6936\t Val_Loss: 1.7941\t Train_Acc: 0.3950\t Val_Acc: 0.3743\t Time: 1.35 seconds\n",
            "Epoch:8\t Train_Loss: 1.6684\t Val_Loss: 1.7904\t Train_Acc: 0.4043\t Val_Acc: 0.3756\t Time: 1.36 seconds\n",
            "Epoch:9\t Train_Loss: 1.6431\t Val_Loss: 1.8105\t Train_Acc: 0.4142\t Val_Acc: 0.3717\t Time: 1.56 seconds\n",
            "Epoch:10\t Train_Loss: 1.6174\t Val_Loss: 1.8091\t Train_Acc: 0.4230\t Val_Acc: 0.3739\t Time: 1.55 seconds\n",
            "Epoch:11\t Train_Loss: 1.5976\t Val_Loss: 1.7890\t Train_Acc: 0.4311\t Val_Acc: 0.3825\t Time: 1.35 seconds\n",
            "Epoch:12\t Train_Loss: 1.5744\t Val_Loss: 1.7782\t Train_Acc: 0.4401\t Val_Acc: 0.3885\t Time: 1.38 seconds\n",
            "Epoch:13\t Train_Loss: 1.5533\t Val_Loss: 1.7680\t Train_Acc: 0.4467\t Val_Acc: 0.3925\t Time: 1.37 seconds\n",
            "Epoch:14\t Train_Loss: 1.5366\t Val_Loss: 1.7525\t Train_Acc: 0.4521\t Val_Acc: 0.3946\t Time: 1.41 seconds\n",
            "Epoch:15\t Train_Loss: 1.5168\t Val_Loss: 1.7530\t Train_Acc: 0.4624\t Val_Acc: 0.3949\t Time: 1.37 seconds\n"
          ]
        }
      ]
    },
    {
      "cell_type": "markdown",
      "source": [
        "## Loss and Accuracy curves"
      ],
      "metadata": {
        "id": "E5NJ7VyxI4aV"
      }
    },
    {
      "cell_type": "code",
      "source": [
        "plt.figure()\n",
        "plt.plot(train_losses, label='Train Loss')\n",
        "plt.plot(val_losses, label='Validation Loss')\n",
        "plt.xlabel('Epoch')\n",
        "plt.ylabel('Loss')\n",
        "plt.legend()\n",
        "plt.show()"
      ],
      "metadata": {
        "colab": {
          "base_uri": "https://localhost:8080/",
          "height": 449
        },
        "id": "Y5AA7o3EI77_",
        "outputId": "500d4a6d-2dd5-45cd-ad79-cd74bf0917c1"
      },
      "execution_count": 67,
      "outputs": [
        {
          "output_type": "display_data",
          "data": {
            "text/plain": [
              "<Figure size 640x480 with 1 Axes>"
            ],
            "image/png": "[encoded data removed]"
          },
          "metadata": {}
        }
      ]
    },
    {
      "cell_type": "code",
      "source": [
        "plt.figure()\n",
        "plt.plot(train_accs, label='Train Accuracy')\n",
        "plt.plot(val_accs, label='Validation Accuracy')\n",
        "plt.xlabel('Epoch')\n",
        "plt.ylabel('Accuracy')\n",
        "plt.legend()\n",
        "plt.show()"
      ],
      "metadata": {
        "colab": {
          "base_uri": "https://localhost:8080/",
          "height": 449
        },
        "id": "FHJnLtMcI-nj",
        "outputId": "2935badd-82e0-4157-c460-298de97a46d0"
      },
      "execution_count": 68,
      "outputs": [
        {
          "output_type": "display_data",
          "data": {
            "text/plain": [
              "<Figure size 640x480 with 1 Axes>"
            ],
            "image/png": "[encoded data removed]"
          },
          "metadata": {}
        }
      ]
    },
    {
      "cell_type": "markdown",
      "source": [
        "## Evaluating the test data"
      ],
      "metadata": {
        "id": "NVGWO1szJCss"
      }
    },
    {
      "cell_type": "code",
      "source": [
        "def eval_model(model, data, class_labels):\n",
        "    model.eval()\n",
        "    all_labels=[]\n",
        "    preds=[]\n",
        "\n",
        "    with torch.no_grad():\n",
        "        for imgs, labels in data:\n",
        "            imgs= imgs.to(device)\n",
        "            labels=labels.to(device)\n",
        "            out=model(imgs)\n",
        "            _, pred= torch.max(out,1)\n",
        "\n",
        "            all_labels.extend(labels.cpu().numpy())\n",
        "            preds.extend(pred.cpu().numpy())\n",
        "\n",
        "    print('Classification Report:')\n",
        "    print(classification_report(all_labels,preds, target_names=class_labels))\n",
        "\n",
        "    print('Confusion Matrix:')\n",
        "    cm=confusion_matrix(all_labels,preds)\n",
        "    disp=ConfusionMatrixDisplay(confusion_matrix=cm, display_labels=class_labels)\n",
        "    disp.plot()\n",
        "    plt.tight_layout()\n",
        "    disp.ax_.set_xticklabels(labels= class_labels, rotation=90)\n",
        "    plt.show()\n",
        "\n"
      ],
      "metadata": {
        "id": "J2L9JgYmJFC7"
      },
      "execution_count": 75,
      "outputs": []
    },
    {
      "cell_type": "code",
      "source": [
        "labels= ('plane', 'car', 'bird', 'cat', 'deer', 'dog', 'frog', 'horse', 'ship', 'truck')\n",
        "eval_model(model, test_loader, labels)"
      ],
      "metadata": {
        "colab": {
          "base_uri": "https://localhost:8080/",
          "height": 841
        },
        "id": "Mx0V6jZYJR-j",
        "outputId": "ccede015-f127-4d1f-9d22-c19321f73a83"
      },
      "execution_count": 76,
      "outputs": [
        {
          "output_type": "stream",
          "name": "stdout",
          "text": [
            "Classification Report:\n",
            "              precision    recall  f1-score   support\n",
            "\n",
            "       plane       0.42      0.41      0.41      1000\n",
            "         car       0.48      0.45      0.46      1000\n",
            "        bird       0.33      0.27      0.30      1000\n",
            "         cat       0.28      0.26      0.27      1000\n",
            "        deer       0.36      0.27      0.31      1000\n",
            "         dog       0.40      0.30      0.35      1000\n",
            "        frog       0.35      0.51      0.42      1000\n",
            "       horse       0.48      0.41      0.44      1000\n",
            "        ship       0.39      0.56      0.46      1000\n",
            "       truck       0.44      0.48      0.46      1000\n",
            "\n",
            "    accuracy                           0.39     10000\n",
            "   macro avg       0.39      0.39      0.39     10000\n",
            "weighted avg       0.39      0.39      0.39     10000\n",
            "\n",
            "Confusion Matrix:\n"
          ]
        },
        {
          "output_type": "display_data",
          "data": {
            "text/plain": [
              "<Figure size 640x480 with 2 Axes>"
            ],
            "image/png": "[encoded data removed]"
          },
          "metadata": {}
        }
      ]
    },
    {
      "cell_type": "markdown",
      "source": [
        "# Answers"
      ],
      "metadata": {
        "id": "ZNoqgPEqLCd1"
      }
    },
    {
      "cell_type": "code",
      "source": [
        "import torchsummary"
      ],
      "metadata": {
        "id": "3XsUlK7HLEE1"
      },
      "execution_count": 77,
      "outputs": []
    },
    {
      "cell_type": "code",
      "source": [
        "torchsummary.summary(model, input_size=(1,1024))"
      ],
      "metadata": {
        "colab": {
          "base_uri": "https://localhost:8080/"
        },
        "id": "TWiYbbbXLIso",
        "outputId": "3c9e2688-ade4-4470-c592-a52c3ad470d6"
      },
      "execution_count": 79,
      "outputs": [
        {
          "output_type": "stream",
          "name": "stdout",
          "text": [
            "----------------------------------------------------------------\n",
            "        Layer (type)               Output Shape         Param #\n",
            "================================================================\n",
            "            Linear-1               [-1, 1, 256]         262,400\n",
            "            Linear-2               [-1, 1, 256]          65,792\n",
            "            Linear-3                [-1, 1, 10]           2,570\n",
            "================================================================\n",
            "Total params: 330,762\n",
            "Trainable params: 330,762\n",
            "Non-trainable params: 0\n",
            "----------------------------------------------------------------\n",
            "Input size (MB): 0.00\n",
            "Forward/backward pass size (MB): 0.00\n",
            "Params size (MB): 1.26\n",
            "Estimated Total Size (MB): 1.27\n",
            "----------------------------------------------------------------\n"
          ]
        }
      ]
    },
    {
      "cell_type": "markdown",
      "source": [
        "Number of Hidden Layers: 2\n",
        "\n",
        "Neurons/Layer: 1024, 256,256, 10\n",
        "\n",
        "Activation: ReLU"
      ],
      "metadata": {
        "id": "yZfYUrgDLncl"
      }
    }
  ],
  "metadata": {
    "kernelspec": {
      "display_name": "Python 3",
      "name": "python3"
    },
    "language_info": {
      "codemirror_mode": {
        "name": "ipython",
        "version": 3
      },
      "file_extension": ".py",
      "mimetype": "text/x-python",
      "name": "python",
      "nbconvert_exporter": "python",
      "pygments_lexer": "ipython3",
      "version": "3.11.8"
    },
    "colab": {
      "provenance": [],
      "collapsed_sections": [
        "G0DJYUUiCPTp",
        "4k_Iap9uCPTr",
        "EXuWhzfwEt8G",
        "lbIxPTXBEy3J",
        "Mt2GKer0CPTr",
        "GpTIE7MBK1tC",
        "4_CxVL0vMwgM",
        "SVvmde1X6JdB",
        "48Aj2IYEEsfU"
      ],
      "gpuType": "T4"
    },
    "accelerator": "GPU"
  },
  "nbformat": 4,
  "nbformat_minor": 0
}